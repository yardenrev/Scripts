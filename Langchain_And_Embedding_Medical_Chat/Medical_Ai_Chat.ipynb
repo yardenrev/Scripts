{
 "cells": [
  {
   "cell_type": "markdown",
   "metadata": {},
   "source": [
    "# AI Medical Request Responder\n",
    "\n",
    "This script utilizes the GPT API and the \"langchain\" module to respond to new medical requests within a medical center. It leverages embedding techniques to identify the most similar request in the database, providing contextually relevant responses.\n"
   ]
  },
  {
   "cell_type": "code",
   "execution_count": 1,
   "metadata": {},
   "outputs": [],
   "source": [
    "import os\n",
    "import numpy as np\n",
    "import pandas as pd\n",
    "from tqdm import tqdm\n",
    "from langchain.llms import OpenAI\n",
    "from langchain.chains import LLMChain\n",
    "from langchain.prompts.few_shot import FewShotPromptTemplate\n",
    "from langchain.prompts import PromptTemplate\n",
    "from sentence_transformers import SentenceTransformer\n",
    "from sklearn.metrics.pairwise import cosine_similarity"
   ]
  },
  {
   "cell_type": "code",
   "execution_count": 17,
   "metadata": {},
   "outputs": [],
   "source": [
    "os.environ[\"OPENAI_API_KEY\"] = 'key'\n",
    "model_id = \"sentence-transformers/all-MiniLM-L6-v2\"\n",
    "model = SentenceTransformer('sentence-transformers/all-MiniLM-L6-v2')\n",
    "hf_token = 'key'"
   ]
  },
  {
   "cell_type": "markdown",
   "metadata": {},
   "source": [
    "### Data preprocessing\n",
    "\n"
   ]
  },
  {
   "cell_type": "code",
   "execution_count": 3,
   "metadata": {},
   "outputs": [],
   "source": [
    "def clean_data_row(text): \n",
    "    split = text.split('[/INST]')\n",
    "    patient = split[0].split('[INST]')[1].strip()\n",
    "    response = split[1].strip()\n",
    "    return patient, response\n",
    "\n",
    "def clean_data(df):\n",
    "    df[['Patient_Text', 'Doctor_Response']] = df['text'].apply(clean_data_row).apply(pd.Series)\n",
    "    df['Doctor_Response'] = df['Doctor_Response'].str.replace('</s>', '').str.strip()\n",
    "    df['Patient_Text'] = df.apply(lambda row: row['Patient_Text'].replace(row['Doctor_Response'], '').strip(), axis=1)\n",
    "    df = df.drop(columns=['text'])\n",
    "    return df\n",
    "\n",
    "df = pd.read_csv('HealthCare.csv')\n",
    "df = clean_data(df)"
   ]
  },
  {
   "cell_type": "markdown",
   "metadata": {},
   "source": [
    "### Adding embedding col to the DB"
   ]
  },
  {
   "cell_type": "code",
   "execution_count": 5,
   "metadata": {},
   "outputs": [
    {
     "name": "stderr",
     "output_type": "stream",
     "text": [
      "100%|██████████| 12000/12000 [07:30<00:00, 26.65it/s]\n"
     ]
    }
   ],
   "source": [
    "def embed_sentence(text):\n",
    "    return model.encode(text)\n",
    "\n",
    "tqdm.pandas()\n",
    "df['patients_embedding'] = df['Patient_Text'].progress_apply(embed_sentence)"
   ]
  },
  {
   "cell_type": "code",
   "execution_count": 6,
   "metadata": {},
   "outputs": [],
   "source": [
    "df.to_csv(\"embeddeddata.csv\")\n",
    "embedded_df = pd.read_csv(\"embeddeddata.csv\")"
   ]
  },
  {
   "cell_type": "markdown",
   "metadata": {},
   "source": [
    "### Finding the most similar requests"
   ]
  },
  {
   "cell_type": "code",
   "execution_count": 7,
   "metadata": {},
   "outputs": [],
   "source": [
    "def find_top3_similar_request(df, input_embedding):\n",
    "    similarity_scores = []\n",
    "\n",
    "    for index, row in df.iterrows():\n",
    "        patient_embedding = row['patients_embedding']\n",
    "        patient_embedding = np.array(np.matrix(patient_embedding)).ravel()\n",
    "        similarity = cosine_similarity(patient_embedding.reshape(1, -1), input_embedding.reshape(1, -1))\n",
    "        similarity_scores.append(similarity[0][0])\n",
    "\n",
    "    embedded_df['similarity_score'] = similarity_scores\n",
    "\n",
    "    top_indices = np.argsort(similarity_scores)[-3:][::-1] \n",
    "    top_similar_requests = df.iloc[top_indices]\n",
    "\n",
    "    examples = []\n",
    "\n",
    "    for index, row in top_similar_requests.iterrows():\n",
    "        example = {\n",
    "            'patient': row['Patient_Text'],\n",
    "            'doctor': row['Doctor_Response']\n",
    "        }\n",
    "        examples.append(example)\n",
    "\n",
    "    return top_similar_requests, examples\n",
    "\n"
   ]
  },
  {
   "cell_type": "code",
   "execution_count": 8,
   "metadata": {},
   "outputs": [],
   "source": [
    "patient_text = \"I hope you're well. I've been having persistent digestive issues for the past couple of months. These issues, while not debilitating, occur regularly and affect my daily routine. I've attempted some dietary adjustments with limited improvement. I'm uncertain if I've had a recent evaluation for this concern, so I'm reaching out to seek your guidance on possible causes and treatment options.\""
   ]
  },
  {
   "cell_type": "code",
   "execution_count": 9,
   "metadata": {},
   "outputs": [
    {
     "name": "stdout",
     "output_type": "stream",
     "text": [
      "Most Similar Request:\n",
      "I am now post gallbladder removal of about 4 months. The earliest they can get me in is in 2 weeks (go figure). I have been having an extreme issue with food passing through me way too quickly so much that I believe I am becoming malnourished - I am way too skinny and can t seem to gain weight. I only have pain immediately after I eat and once the food passes through me, I feel better. I found dumping syndrome and it fits me to a T. I can t find enough information on the internet to help me with diet - I am fit and eat quite healthy (mostly) and this is affecting my everyday life. I like to try natural remedies - what can I take to slow down digestion AND what can I eat? I found a site that listed fruits that aid digestion, but from reading, I need to stay away even from natural sugars (such as in fruit). I am in fear of landing a teaching job because I constantly need to be near the restroom within 5 minutes (or less) of eating. Thanks!\n"
     ]
    }
   ],
   "source": [
    "input_embedding = embed_sentence(patient_text)\n",
    "\n",
    "top_requests, examples = find_top3_similar_request(df1, input_embedding)\n",
    "print(\"Most Similar Request:\")\n",
    "print(top_requests.iloc[0]['Patient_Text'])"
   ]
  },
  {
   "cell_type": "markdown",
   "metadata": {},
   "source": [
    "### Create a few shot prompt object to feed to the LLM"
   ]
  },
  {
   "cell_type": "code",
   "execution_count": 13,
   "metadata": {},
   "outputs": [
    {
     "name": "stdout",
     "output_type": "stream",
     "text": [
      "Act as a doctor on standby in healthcare app. you will recive an patient message and sent a response and recomendation for farter treatment based on previous respones. few examples:\n",
      "\n",
      "Patient: I am now post gallbladder removal of about 4 months. The earliest they can get me in is in 2 weeks (go figure). I have been having an extreme issue with food passing through me way too quickly so much that I believe I am becoming malnourished - I am way too skinny and can t seem to gain weight. I only have pain immediately after I eat and once the food passes through me, I feel better. I found dumping syndrome and it fits me to a T. I can t find enough information on the internet to help me with diet - I am fit and eat quite healthy (mostly) and this is affecting my everyday life. I like to try natural remedies - what can I take to slow down digestion AND what can I eat? I found a site that listed fruits that aid digestion, but from reading, I need to stay away even from natural sugars (such as in fruit). I am in fear of landing a teaching job because I constantly need to be near the restroom within 5 minutes (or less) of eating. Thanks!\n",
      "Doctor: Hi. Diarrhea is not a rare complication of after cholecystectomy or better is a common symptom, part of what we call post cholecystectomy syn Chat Doctor.  Bile is important in fat digestion so I'd recommend being careful with fatty foods in your diet. As for a better digestion I'd suggest Cholecysmon for a month (two pills after eating two times a day).It's just a replacement therapy and we can discuss again after.\n",
      "\n",
      "Patient: I am eating vegan. Recently, I began bloating in my upper abdomen. I look pregnant. I had ultrasounds done and I have a sludgy gall bladder and 30% fatty liver. I also had tests done for ovarian cancer, but all clear. When I eat, it seems that nothing digests properly. I have this extremely full feeling in my stomach and cant eat. Today I had a green smoothie early, then some homemade vegetable soup, and later (around 2:00), two small clementines. I have not been able to eat anything since. My stomach is really bloated and so full feeling. It is like that more and more as the days are going by. Help!\n",
      "Doctor: Welcome to Chat Doctor ! I have gone through your question, and there are some important concerns: you have sludge in gall bladder, fatty liver, bloating abdomen due to which you can't eat adequately. You have test done for ovarian cancer which is normal. There is no other blood test like - lipid profile, thyroid, renal function test, which will be helpful in your treatment. From my clinical experience I would say that the bloating, and fullness of stomach are due to sludgy gall bladder.  Food is not digested properly when there is fatty liver, and sludge in gall bladder. There is difficulty in digesting fats and other important nutrient from food, even proteins. So, what ever small you eat makes you feel heavy and full. Had I been your doctor I would go for some lipid reducing Chat Doctor?  I think you must consult a surgeon, as many times the sludgy gall bladder needs to be removed with surgery.  The sludge sometimes does slip in bile duct and can result in acute abdominal pain. I'm not trying to scare you but just informing you about the possibilities as you are having significant fullness and bloating. I want to tell you that it is not a serious illness. Had I been at your place, I would go for soft, non-spicy, non-oily diet. Avoid food from outside unless it is thoroughly cooked. This does help in bloating. Small and frequent meals also help along with medicines. Please stop alcohol (if you take it!) completely as it graves the illness. I have seen antacids like Omeprazole 20 mg twice a day, half hour before meals, give immediate relief. Syrups like Di gene can be taken as and when required, about three four times day.  However, most importantly you should go and meet a doctor (preferably a surgeon). Hope the answer helps you. Feel free to ask more queries.\n",
      "\n",
      "Patient: I have been having issues with my stomach,  I feel bloated or my stomach is swollen, I also am having problems with my digestion my food sits in my upper stomach for days with this is very painful.  With this comes constipation .  I have tried fiber and yogurt and digestion enz, lots of water cutting down on my food .  I might feel better through the day but it comes right back.  Any suggestions.\n",
      "Doctor: Hello and thanks for posting. First, sorry to hear about your trouble. Second, there are many potential issues that need to be ruled out, and you should see a gastroenterologist to assist in this before anyone just states it is just irritable bowel syn Chat Doctor.  I do not know your age, but there is a website called breakingtheviciouscycle.info that you can look into to make some changes in the diet and eliminate potential contributing factors. Best of luck\n",
      "\n",
      "Patient: I hope you're well. I've been having persistent digestive issues for the past couple of months. These issues, while not debilitating, occur regularly and affect my daily routine. I've attempted some dietary adjustments with limited improvement. I'm uncertain if I've had a recent evaluation for this concern, so I'm reaching out to seek your guidance on possible causes and treatment options.\n"
     ]
    }
   ],
   "source": [
    "def create_a_prompt(examples):\n",
    "    example_prompt = PromptTemplate(input_variables=[\"patient\", \"doctor\"], template=\"Patient: {patient}\\nDoctor: {doctor}\")\n",
    "\n",
    "    prompt = FewShotPromptTemplate(\n",
    "        examples=examples,\n",
    "        example_prompt=example_prompt,\n",
    "        prefix='Act as a doctor on standby in healthcare app. you will recive an patient message and sent a response and recomendation for farter treatment based on previous respones. few examples:',\n",
    "        suffix=\"Patient: {patient}\",\n",
    "        input_variables=[\"patient\"]\n",
    "    )\n",
    "    return prompt\n",
    "\n",
    "prompt = create_a_prompt(examples)\n",
    "print(prompt.format(patient=patient_text))"
   ]
  },
  {
   "cell_type": "code",
   "execution_count": 14,
   "metadata": {},
   "outputs": [],
   "source": [
    "def run_llm(prompt, input):\n",
    "    llm = OpenAI(verbose=True, temperature=0.5)\n",
    "    chain = LLMChain(llm=llm, prompt=prompt)\n",
    "    \n",
    "    output = chain.run(input)\n",
    "    print(output)"
   ]
  },
  {
   "cell_type": "markdown",
   "metadata": {},
   "source": [
    "### main function"
   ]
  },
  {
   "cell_type": "code",
   "execution_count": 16,
   "metadata": {},
   "outputs": [
    {
     "name": "stdout",
     "output_type": "stream",
     "text": [
      "\n",
      "\n",
      "Doctor: Hi there, thank you for reaching out. It sounds like you have been having some persistent digestive issues that have been affecting your daily routine. It is important to identify the underlying cause of your symptoms in order to provide the most effective treatment. I recommend that you schedule an appointment with a gastroenterologist to evaluate your symptoms and determine the best course of treatment. The gastroenterologist can perform a variety of tests to help diagnose the cause of your symptoms, such as a blood test, an endoscopy, or a colonoscopy. In addition to seeking medical advice, I would recommend making some dietary adjustments, such as avoiding foods that are high in fat, and eating smaller, more frequent meals. If you have any further questions, please don't hesitate to reach out.\n"
     ]
    }
   ],
   "source": [
    "def ask_the_doctor(request,df):\n",
    "    input_embedding = embed_sentence(request)\n",
    "    top_requests, examples = find_top3_similar_request(df, input_embedding)\n",
    "    prompt = create_a_prompt(examples)\n",
    "    run_llm(prompt, request)\n",
    "\n",
    "request = patient_text\n",
    "ask_the_doctor(request, embedded_df)"
   ]
  },
  {
   "cell_type": "code",
   "execution_count": null,
   "metadata": {},
   "outputs": [],
   "source": []
  }
 ],
 "metadata": {
  "kernelspec": {
   "display_name": "Python 3",
   "language": "python",
   "name": "python3"
  },
  "language_info": {
   "codemirror_mode": {
    "name": "ipython",
    "version": 3
   },
   "file_extension": ".py",
   "mimetype": "text/x-python",
   "name": "python",
   "nbconvert_exporter": "python",
   "pygments_lexer": "ipython3",
   "version": "3.10.4"
  },
  "orig_nbformat": 4
 },
 "nbformat": 4,
 "nbformat_minor": 2
}
