{
 "cells": [
  {
   "cell_type": "markdown",
   "metadata": {},
   "source": [
    "# Protein Attribute Prediction Project\n",
    "\n",
    "This script is part of the final project for the data science course, a Kaggle competition. The goal is to predict 5 attributes of proteins using the provided training data.Participants are allowed to use any prediction algorithm to achieve the best score.\n",
    "\n",
    "The code sets up a hyperparameter search space for the XGBoost classifier and utilizes Randomized Search for hyperparameter tuning. It trains models for each attribute using the best parameters found and generates predictions on the test set."
   ]
  },
  {
   "cell_type": "code",
   "execution_count": 1,
   "id": "965780ec",
   "metadata": {},
   "outputs": [],
   "source": [
    "import numpy as np\n",
    "from sklearn.base import clone\n",
    "import pandas as pd\n",
    "import xgboost \n",
    "from sklearn.model_selection import RandomizedSearchCV\n",
    "\n",
    "\n",
    "def save_predictions(predictions, filename):\n",
    "    df = pd.DataFrame(np.array(predictions).T, columns=['attribute 1', 'attribute 2', 'attribute 3', 'attribute 4', 'attribute 5'])\n",
    "    df.to_csv(filename, index_label= 'Id')\n",
    "\n",
    "def fit_predict (best_params,x_train,labels_train,x_test):\n",
    "     for i in range(len(best_params)):\n",
    "            model= clone(best_params[i]).fit(x_train, labels_train[i])\n",
    "            prediction = model.predict_proba(x_test)[:,1]\n",
    "            predictions.append(prediction)"
   ]
  },
  {
   "cell_type": "code",
   "execution_count": 2,
   "id": "f47ba3b0",
   "metadata": {
    "scrolled": true
   },
   "outputs": [],
   "source": [
    "x_train = np.genfromtxt('protein_features_train.csv', delimiter=',')\n",
    "y_train = np.genfromtxt('protein_labels_train.csv', delimiter=',')\n",
    "x_test = np.genfromtxt('protein_features_test.csv', delimiter=',')"
   ]
  },
  {
   "cell_type": "markdown",
   "metadata": {},
   "source": [
    "Create a vector of labels for each class"
   ]
  },
  {
   "cell_type": "code",
   "execution_count": 3,
   "id": "58d5f982",
   "metadata": {},
   "outputs": [],
   "source": [
    "labels_train = [np.copy(y_train[:,i]) for i in range(0, y_train.shape[1])]"
   ]
  },
  {
   "cell_type": "markdown",
   "metadata": {},
   "source": [
    " Define hyperparameter search space\n"
   ]
  },
  {
   "cell_type": "code",
   "execution_count": 6,
   "id": "7e5c5938",
   "metadata": {},
   "outputs": [],
   "source": [
    "params={\n",
    " \"learning_rate\"    : [0.008, 0.05, 0.10, 0.15, 0.20, 0.25, 0.30 ] ,\n",
    " \"max_depth\"        : [ 3, 4, 5, 6, 8, 10, 12, 15, 18, 20, 21, 24],\n",
    " \"min_child_weight\" : [ 1, 3, 5, 7 ],\n",
    " \"gamma\"            : [ 0.0, 0.1, 0.2 , 0.3, 0.4 ],\n",
    " \"colsample_bytree\" : [ 0.3, 0.4, 0.5 , 0.7 ],\n",
    " \"n_estimators\"     : [100, 200, 300, 400, 500, 1024, 2048, 2042],\n",
    " \"subsample\"        : [0.65, 0.7 ,0.8,0.9]}"
   ]
  },
  {
   "cell_type": "markdown",
   "metadata": {},
   "source": [
    "Perform Randomized Search for each class, Find best parameters for each class\n",
    "\n"
   ]
  },
  {
   "cell_type": "code",
   "execution_count": null,
   "id": "570af580",
   "metadata": {},
   "outputs": [
    {
     "name": "stdout",
     "output_type": "stream",
     "text": [
      "Fitting 5 folds for each of 5 candidates, totalling 25 fits\n"
     ]
    }
   ],
   "source": [
    "classifier=xgboost.XGBClassifier()\n",
    "random_search=RandomizedSearchCV(classifier,param_distributions=params,n_iter=5,scoring='roc_auc',n_jobs=-1,cv=5,verbose=3)\n",
    "best_params = [] \n",
    "for i in range (len(labels_train)):\n",
    "    random_search.fit(x_train ,labels_train[i])\n",
    "    best_params.append(random_search.best_estimator_)\n",
    "    "
   ]
  },
  {
   "cell_type": "code",
   "execution_count": null,
   "id": "471abf49",
   "metadata": {},
   "outputs": [],
   "source": [
    "predictions = [] \n",
    "fit_predict(best_params, x_train, labels_train, x_test)\n",
    "save_predictions(predictions, 'predictions.csv')"
   ]
  }
 ],
 "metadata": {
  "kernelspec": {
   "display_name": "Python 3 (ipykernel)",
   "language": "python",
   "name": "python3"
  },
  "language_info": {
   "codemirror_mode": {
    "name": "ipython",
    "version": 3
   },
   "file_extension": ".py",
   "mimetype": "text/x-python",
   "name": "python",
   "nbconvert_exporter": "python",
   "pygments_lexer": "ipython3",
   "version": "3.10.4"
  }
 },
 "nbformat": 4,
 "nbformat_minor": 5
}
