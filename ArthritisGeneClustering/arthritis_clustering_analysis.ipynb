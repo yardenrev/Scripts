{
 "cells": [
  {
   "cell_type": "code",
   "execution_count": null,
   "id": "0f07e693",
   "metadata": {},
   "outputs": [],
   "source": [
    "import pandas as pd \n",
    "import matplotlib.pyplot as plt \n",
    "import numpy as np \n",
    "from sklearn import datasets\n",
    "import seaborn as sns\n"
   ]
  },
  {
   "cell_type": "code",
   "execution_count": null,
   "id": "626525b9",
   "metadata": {},
   "outputs": [],
   "source": [
    "ds = pd.read_csv('arthritis rma.csv')\n",
    "ds = ds.set_index('#NAMES')\n"
   ]
  },
  {
   "cell_type": "code",
   "execution_count": null,
   "id": "190f0ae4",
   "metadata": {},
   "outputs": [],
   "source": [
    "plt.figure(figsize=(20,20))\n",
    "sns.heatmap(ds, cmap=\"flare\")\n",
    "plt.xlabel('names',fontsize=(15))\n",
    "plt.title ('expression levels of genes',fontsize=(20))\n",
    "plt.ylabel('gene',fontsize=(15))"
   ]
  },
  {
   "cell_type": "code",
   "execution_count": null,
   "id": "e35e614f",
   "metadata": {},
   "outputs": [],
   "source": [
    "from sklearn.cluster import AgglomerativeClustering\n",
    "ds_subj= ds.T\n",
    "clustering = AgglomerativeClustering(n_clusters=2).fit(ds_subj)\n",
    "clustering_vec = clustering.labels_\n",
    "ds_subj['Cluster'] = clustering_vec \n",
    "ds_subj.sort_values(by=['Cluster'], inplace=True)\n",
    "ds_subj.drop(\"Cluster\", axis=1, inplace=True)"
   ]
  },
  {
   "cell_type": "code",
   "execution_count": null,
   "id": "1ff26121",
   "metadata": {},
   "outputs": [],
   "source": [
    "ds_gene=ds_subj.T\n",
    "clustering = AgglomerativeClustering(n_clusters=2).fit(ds_gene)\n",
    "clustering_vec = clustering.labels_\n",
    "ds_gene['Cluster'] = clustering_vec \n",
    "ds_gene.sort_values(by=['Cluster'], inplace=True)\n",
    "ds_gene.drop(\"Cluster\", axis=1, inplace=True)\n"
   ]
  },
  {
   "cell_type": "code",
   "execution_count": null,
   "id": "6dcf0ab3",
   "metadata": {},
   "outputs": [],
   "source": [
    "plt.figure(figsize=(20,20))\n",
    "sns.heatmap(ds_gene, cmap=\"flare\")\n",
    "plt.title ('expression levels of genes after clustering',fontsize=(20))\n",
    "plt.xlabel('names',fontsize=(15))\n",
    "plt.ylabel('gene',fontsize=(15))"
   ]
  },
  {
   "cell_type": "code",
   "execution_count": null,
   "id": "73c9313e",
   "metadata": {},
   "outputs": [],
   "source": [
    "ds = ds.T\n",
    "ds = (ds - ds.mean())/(ds.std() + 1e-10)\n"
   ]
  },
  {
   "cell_type": "code",
   "execution_count": null,
   "id": "e1a0d7ff",
   "metadata": {
    "scrolled": true
   },
   "outputs": [],
   "source": [
    "ds_subj= ds\n",
    "clustering = AgglomerativeClustering(n_clusters=2).fit(ds_subj)\n",
    "clustering_vec1 = clustering.labels_\n",
    "ds_subj['Cluster'] = clustering_vec1 \n",
    "ds_subj.sort_values(by=['Cluster'], inplace=True)\n",
    "ds_subj.drop(\"Cluster\", axis=1, inplace=True)\n",
    "\n",
    "ds_gene=ds_subj.T\n",
    "clustering = AgglomerativeClustering(n_clusters=2).fit(ds_gene)\n",
    "clustering_vec = clustering.labels_\n",
    "ds_gene['Cluster'] = clustering_vec \n",
    "ds_gene.sort_values(by=['Cluster'], inplace=True)\n",
    "ds_gene.drop(\"Cluster\", axis=1, inplace=True)"
   ]
  },
  {
   "cell_type": "code",
   "execution_count": null,
   "id": "2d846f4e",
   "metadata": {},
   "outputs": [],
   "source": [
    "plt.figure(figsize=(20,20))\n",
    "sns.heatmap(ds_gene, cmap=\"flare\")\n",
    "plt.xlabel('names',fontsize=(15))\n",
    "plt.title ('expression levels of genes after clustering and normaliztion',fontsize=(20))\n",
    "plt.ylabel('gene',fontsize=(15))\n"
   ]
  },
  {
   "cell_type": "markdown",
   "id": "00e234c4",
   "metadata": {},
   "source": [
    "The 5 healthy subjects are :\n",
    "GSM34383,GSM34391,GSM34379,GSM34385 ,GSM34388\n",
    "\n",
    "one gene that its expression level is lower in people with Arthritis :32135_at"
   ]
  },
  {
   "cell_type": "code",
   "execution_count": null,
   "id": "c77c0e89",
   "metadata": {},
   "outputs": [],
   "source": [
    "from sklearn.decomposition import PCA \n",
    "pca = PCA (n_components=2)\n",
    "pca.fit(ds_gene.T)\n",
    "clustering_vec1.sort()\n",
    "X = pca.transform(ds_gene.T)\n",
    "#import pdb ;pdb.set_trace()\n",
    "plt.figure(figsize = (10,5))\n",
    "plt.scatter(X[:,0],X[:,1],c = clustering_vec1,cmap ='jet')\n",
    "plt.xlabel(\"Pc1\")\n",
    "plt.ylabel(\"Pc2\")\n",
    "plt.title('plot of PCA')"
   ]
  },
  {
   "cell_type": "code",
   "execution_count": null,
   "id": "bc2597d3",
   "metadata": {},
   "outputs": [],
   "source": []
  },
  {
   "cell_type": "code",
   "execution_count": null,
   "id": "b25b76ea",
   "metadata": {},
   "outputs": [],
   "source": [
    "\n",
    "\n"
   ]
  },
  {
   "cell_type": "code",
   "execution_count": null,
   "id": "d9777c9d",
   "metadata": {},
   "outputs": [],
   "source": []
  }
 ],
 "metadata": {
  "kernelspec": {
   "display_name": "Python 3 (ipykernel)",
   "language": "python",
   "name": "python3"
  },
  "language_info": {
   "codemirror_mode": {
    "name": "ipython",
    "version": 3
   },
   "file_extension": ".py",
   "mimetype": "text/x-python",
   "name": "python",
   "nbconvert_exporter": "python",
   "pygments_lexer": "ipython3",
   "version": "3.9.7"
  }
 },
 "nbformat": 4,
 "nbformat_minor": 5
}
