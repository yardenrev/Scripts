{
 "cells": [
  {
   "attachments": {},
   "cell_type": "markdown",
   "metadata": {},
   "source": [
    "# Predicting Protein Expression from Gene Sequences\n",
    "\n",
    "This Jupyter Notebook presents a Python script for predicting protein expression levels based on gene sequences. The dataset consists of gene sequences and corresponding protein expression measurements. In addition to the main script, there is an additional script for feature extraction from gene sequences. The main script covers data preprocessing, feature selection, model evaluation, and application to new data. "
   ]
  },
  {
   "cell_type": "code",
   "execution_count": 1,
   "metadata": {},
   "outputs": [],
   "source": [
    "import pandas as pd\n",
    "import numpy as np\n",
    "from sklearn.preprocessing import StandardScaler\n",
    "from scipy.stats import spearmanr"
   ]
  },
  {
   "attachments": {},
   "cell_type": "markdown",
   "metadata": {},
   "source": [
    "##### **Data Preprocessing**"
   ]
  },
  {
   "attachments": {},
   "cell_type": "markdown",
   "metadata": {},
   "source": [
    "Initial data cleaning, feature columns extraction, shuffle and normalize data."
   ]
  },
  {
   "cell_type": "code",
   "execution_count": 12,
   "metadata": {},
   "outputs": [],
   "source": [
    "data = pd.read_excel('new_known_dataset.xlsx')\n",
    "feature_cols = data.columns[6:]\n",
    "np.random.seed(42)\n",
    "data = data.sample(frac=1).reset_index(drop=True)\n",
    "\n",
    "data['PA'] = data['PA'].str.replace(\"'\", '')\n",
    "data['PA'] = pd.to_numeric(data['PA'])\n",
    "\n",
    "scaler = StandardScaler()\n",
    "data.iloc[:, 6:] = scaler.fit_transform(data.iloc[:, 6:])"
   ]
  },
  {
   "attachments": {},
   "cell_type": "markdown",
   "metadata": {},
   "source": [
    "Data spliting\n"
   ]
  },
  {
   "cell_type": "code",
   "execution_count": 13,
   "metadata": {},
   "outputs": [],
   "source": [
    "train_size = int(0.4 * len(data))\n",
    "val_size = int(0.4 * len(data))\n",
    "test_size = int(0.2 * len(data))\n",
    "\n",
    "train_data = data[:train_size]\n",
    "val_data = data[train_size:train_size + val_size]\n",
    "test_data = data[train_size + val_size:]\n",
    "\n",
    "X_train = train_data[feature_cols]\n",
    "y_train = train_data['PA']\n",
    "\n",
    "X_val = val_data[feature_cols]\n",
    "y_val = val_data['PA']\n",
    "\n",
    "X_test = test_data[feature_cols]\n",
    "y_test = test_data['PA']"
   ]
  },
  {
   "cell_type": "code",
   "execution_count": 14,
   "metadata": {},
   "outputs": [],
   "source": [
    "best_features = []\n",
    "best_corr = 0\n",
    "best_model = None\n",
    "stages_corr = []\n",
    "add_feature = True"
   ]
  },
  {
   "attachments": {},
   "cell_type": "markdown",
   "metadata": {},
   "source": [
    "##### **Feature Selection**\n",
    " We perform feature selection using a while loop until no further improvement is achieved in the correlation."
   ]
  },
  {
   "cell_type": "code",
   "execution_count": 15,
   "metadata": {},
   "outputs": [],
   "source": [
    "while add_feature:\n",
    "    for i in range(X_train.shape[1]):\n",
    "        current_feature = X_train.columns[i]\n",
    "\n",
    "        if current_feature in best_features:\n",
    "            continue\n",
    "\n",
    "        features = [current_feature] + best_features\n",
    "\n",
    "        X_train_selected = X_train[features]\n",
    "        X_for_model = np.column_stack((np.ones(X_train_selected.shape[0]), X_train_selected))\n",
    "        weights = np.linalg.lstsq(X_for_model, y_train, rcond=None)[0]\n",
    "\n",
    "        X_val_selected = X_val[features]\n",
    "        y_pred = np.dot(np.column_stack((np.ones(X_val_selected.shape[0]), X_val_selected)), weights)\n",
    "\n",
    "        corr_value, _ = spearmanr(y_pred, y_val)\n",
    "\n",
    "        if corr_value > best_corr:\n",
    "            best_corr = corr_value\n",
    "            best_features = features\n",
    "            best_model = weights\n",
    "\n",
    "\n",
    "    stages_corr.append(best_corr)\n",
    "    if len(stages_corr) > 1 and ((stages_corr[-1] <= stages_corr[-2]) or ((stages_corr[-1] - stages_corr[-2]) < 0.005)):\n",
    "        add_feature = False"
   ]
  },
  {
   "attachments": {},
   "cell_type": "markdown",
   "metadata": {},
   "source": [
    "#### **Test Set Evaluation**"
   ]
  },
  {
   "cell_type": "code",
   "execution_count": 16,
   "metadata": {},
   "outputs": [
    {
     "name": "stdout",
     "output_type": "stream",
     "text": [
      "Best Features:\n",
      "['TTG_prob', 'GGG_prob', 'GGT_prob', 'TGG_prob', 'GCC_prob', 'ACT_prob', 'CCC_prob', 'CCT_prob', 'TCT_prob', 'ATG_prob', 'CTG_prob', 'CTA_prob', 'CTT_prob', 'TTA_prob', 'cys_prob', 'ATG_context', 'freq_AA', 'GC_content', 'FEWindow3', 'FEWindow2', 'FEWindow1', 'CAI']\n",
      "Test Correlation:\n",
      "0.5015384893317347\n"
     ]
    }
   ],
   "source": [
    "X_test_selected = X_test[best_features]\n",
    "X_for_model = np.column_stack((np.ones(X_test_selected.shape[0]), X_test_selected))\n",
    "y_pred = np.dot(X_for_model, best_model)\n",
    "corr_value, _ = spearmanr(y_pred, y_test)\n",
    "\n",
    "print(\"Best Features:\")\n",
    "print(best_features)\n",
    "print(\"Test Correlation:\")\n",
    "print(corr_value)\n"
   ]
  },
  {
   "attachments": {},
   "cell_type": "markdown",
   "metadata": {},
   "source": [
    "#### **Apply the Model on an Unknown Dataset**\n",
    "##### Data Preprocessing"
   ]
  },
  {
   "cell_type": "code",
   "execution_count": 19,
   "metadata": {},
   "outputs": [],
   "source": [
    "\n",
    "data = pd.read_excel('new_unknown_dataset.xlsx')\n",
    "\n",
    "feature_cols = data.columns[5:]\n",
    "\n",
    "data = pd.read_excel('new_unknown_dataset.xlsx')\n",
    "\n",
    "feature_cols = data.columns[5:]\n",
    "\n",
    "data.iloc[:, 5:] = scaler.fit_transform(data.iloc[:, 5:])"
   ]
  },
  {
   "attachments": {},
   "cell_type": "markdown",
   "metadata": {},
   "source": [
    "prediction\n"
   ]
  },
  {
   "cell_type": "code",
   "execution_count": 40,
   "metadata": {},
   "outputs": [],
   "source": [
    "X_test_selected = data[best_features]\n",
    "X_for_model = np.column_stack((np.ones(X_test_selected.shape[0]), X_test_selected))\n",
    "y_pred = np.dot(X_for_model, best_model)\n"
   ]
  },
  {
   "cell_type": "code",
   "execution_count": null,
   "metadata": {},
   "outputs": [],
   "source": [
    "result = pd.DataFrame({'GeneName': data['GeneName'], 'PA_predicted': y_pred})\n",
    "\n",
    "result = result.sort_values(by='PA_predicted')\n",
    "result['Rate'] = range(1, len(result) + 1)\n",
    "\n",
    "result.to_csv('results.csv', index=False)"
   ]
  }
 ],
 "metadata": {
  "kernelspec": {
   "display_name": "Python 3",
   "language": "python",
   "name": "python3"
  },
  "language_info": {
   "codemirror_mode": {
    "name": "ipython",
    "version": 3
   },
   "file_extension": ".py",
   "mimetype": "text/x-python",
   "name": "python",
   "nbconvert_exporter": "python",
   "pygments_lexer": "ipython3",
   "version": "3.10.4"
  },
  "orig_nbformat": 4
 },
 "nbformat": 4,
 "nbformat_minor": 2
}
